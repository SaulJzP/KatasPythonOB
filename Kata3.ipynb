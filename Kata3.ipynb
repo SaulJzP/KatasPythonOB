{
 "cells": [
  {
   "cell_type": "markdown",
   "metadata": {},
   "source": [
    "# Kata 3\n",
    "## If, Else y Elif"
   ]
  },
  {
   "cell_type": "markdown",
   "metadata": {},
   "source": [
    "### Ejercicio 1\n",
    "La velocidad del asteroide varía dependiendo de lo cerca que esté del sol, y cualquier velocidad superior a 25 kilómetros por segundo (km/s) merece una advertencia. \n",
    "\n",
    "Si se plantea que un asteroide se acerca, y viaja a una velocidad de 49 km/s. "
   ]
  },
  {
   "cell_type": "code",
   "execution_count": 3,
   "metadata": {},
   "outputs": [
    {
     "name": "stdout",
     "output_type": "stream",
     "text": [
      "¡Se acerca un asteroide con gran velocidad!\n"
     ]
    }
   ],
   "source": [
    "Asteroide = 49\n",
    "if Asteroide > 25:\n",
    "    print('¡Se acerca un asteroide con gran velocidad!')\n",
    "else:\n",
    "    print('No debe preocuparse por el asteriode') "
   ]
  },
  {
   "cell_type": "markdown",
   "metadata": {},
   "source": [
    "### Ejercicio 2\n",
    "Si un asteroide entra en la atmósfera de la Tierra a una velocidad mayor o igual a 20 km/s, a veces produce un rayo de luz que se puede ver desde la Tierra. Escribe la lógica condicional que usa declaraciones if, else, y elif para alertar a las personas de todo el mundo que deben buscar un asteroide en el cielo. ¡Hay uno que se dirige a la tierra ahora a una velocidad de 19 km/s!"
   ]
  },
  {
   "cell_type": "code",
   "execution_count": 25,
   "metadata": {},
   "outputs": [
    {
     "name": "stdout",
     "output_type": "stream",
     "text": [
      "¡Asteroide pasó desapercibido!\n"
     ]
    }
   ],
   "source": [
    "Asteroide = 19\n",
    "if Asteroide >= 20:\n",
    "    print('¡Hay un rayo de luz en el cielo! ¿Será un asteriode?')\n",
    "else:\n",
    "    print('¡Asteroide pasó desapercibido!')\n"
   ]
  },
  {
   "cell_type": "markdown",
   "metadata": {},
   "source": [
    "De otra manera:"
   ]
  },
  {
   "cell_type": "code",
   "execution_count": 24,
   "metadata": {},
   "outputs": [
    {
     "name": "stdout",
     "output_type": "stream",
     "text": [
      "¡Asteroide pasó desapercibido!\n"
     ]
    }
   ],
   "source": [
    "Asteroide = 19\n",
    "if Asteroide >20:\n",
    "    print('¡Hay un rayo de luz en el cielo! ¿Será un asteriode?')\n",
    "elif Asteroide == 20:\n",
    "    print('¡Hay un rayo de luz en el cielo! ¿Será un asteriode?')\n",
    "else:\n",
    "    print('¡Asteroide pasó desapercibido!')"
   ]
  },
  {
   "cell_type": "markdown",
   "metadata": {},
   "source": [
    "### Ejercicio 3\n",
    "Para este ejercicio debemos considerar:\n",
    "\n",
    "~ Si una pieza de un asteroide, más grande que 25 metros pero más pequeña que 1000 metros, golpeara la Tierra, causaría mucho daño.\n",
    "\n",
    "~ Cualquier asteriode con una velocidad superior a 25 kilómetros por segundo (km/s) merece una advertencia.\n",
    "\n",
    "~ Si un asteroide entra en la atmósfera de la Tierra a una velocidad mayor o igual a 20 km/s, a veces produce un rayo de luz.\n",
    "\n",
    "Usando toda esta información, escribe un programa que emita la advertencia o información correcta a la gente de la Tierra, según la velocidad y el tamaño de un asteroide. Utiliza instrucciones if, else, y elif, así como los operadores and y or."
   ]
  },
  {
   "cell_type": "code",
   "execution_count": 20,
   "metadata": {},
   "outputs": [
    {
     "name": "stdout",
     "output_type": "stream",
     "text": [
      "Nada que informar\n"
     ]
    }
   ],
   "source": [
    "Dimension_Asteroide = 10\n",
    "Velocidad_Asteroide = 10\n",
    "if Dimension_Asteroide > 25 and Velocidad_Asteroide > 25:\n",
    "    print('¡Cuidado, un asteroide!')\n",
    "elif Dimension_Asteroide > 25 or Velocidad_Asteroide > 25:\n",
    "    print('Advertencia: ¡Asteroide!')\n",
    "elif Dimension_Asteroide < 25 and Velocidad_Asteroide >= 20:\n",
    "    print('¡Un rayo de luz de asteriode en el cielo!')\n",
    "else:\n",
    "    print('Nada que informar')"
   ]
  },
  {
   "cell_type": "markdown",
   "metadata": {},
   "source": [
    "Así mismo, podemos solicitar los datos:"
   ]
  },
  {
   "cell_type": "code",
   "execution_count": 23,
   "metadata": {},
   "outputs": [
    {
     "name": "stdout",
     "output_type": "stream",
     "text": [
      "Nada que informar\n"
     ]
    }
   ],
   "source": [
    "Dimension_Asteroide = int(input('Dimensión del asteroide: '))\n",
    "Velocidad_Asteroide = int(input('Velocidad del asteroide: ')) \n",
    "if Dimension_Asteroide > 25 and Velocidad_Asteroide > 25:\n",
    "    print('¡Cuidado, un asteroide!')\n",
    "elif Dimension_Asteroide > 25 or Velocidad_Asteroide > 25:\n",
    "    print('Advertencia: ¡Asteroide!')\n",
    "elif Dimension_Asteroide < 25 and Velocidad_Asteroide >= 20:\n",
    "    print('¡Un rayo de luz de asteriode en el cielo!')\n",
    "else:\n",
    "    print('Nada que informar')"
   ]
  }
 ],
 "metadata": {
  "interpreter": {
   "hash": "2be5faf79681da6f2a61fdfdd5405d65d042280f7fba6178067603e3a2925119"
  },
  "kernelspec": {
   "display_name": "Python 3.10.2 64-bit",
   "language": "python",
   "name": "python3"
  },
  "language_info": {
   "codemirror_mode": {
    "name": "ipython",
    "version": 3
   },
   "file_extension": ".py",
   "mimetype": "text/x-python",
   "name": "python",
   "nbconvert_exporter": "python",
   "pygments_lexer": "ipython3",
   "version": "3.10.2"
  },
  "orig_nbformat": 4
 },
 "nbformat": 4,
 "nbformat_minor": 2
}
