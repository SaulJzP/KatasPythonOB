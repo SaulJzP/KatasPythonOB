{
 "cells": [
  {
   "cell_type": "markdown",
   "metadata": {},
   "source": [
    "# Kata 5\n",
    "## Operaciones aritméticas"
   ]
  },
  {
   "cell_type": "markdown",
   "metadata": {},
   "source": [
    "### Ejercicio 1"
   ]
  },
  {
   "cell_type": "code",
   "execution_count": 1,
   "metadata": {},
   "outputs": [
    {
     "name": "stdout",
     "output_type": "stream",
     "text": [
      "Distancia entre Júpiter y Tierra en km es:  628949330\n",
      "Distancia entre Júpiter y Tierra en millas es:  390577533.93\n"
     ]
    }
   ],
   "source": [
    "Distancia_Tierra = 149597870\n",
    "Distancia_Jupiter = 778547200\n",
    "Distancia_Planetas_km = Distancia_Jupiter - Distancia_Tierra\n",
    "print('Distancia entre Júpiter y Tierra en km es: ', Distancia_Planetas_km)\n",
    "\n",
    "Distancia_Planetas_mi = Distancia_Planetas_km * 0.621\n",
    "print('Distancia entre Júpiter y Tierra en millas es: ', Distancia_Planetas_mi)"
   ]
  },
  {
   "cell_type": "markdown",
   "metadata": {},
   "source": [
    "Utilizando otros datos:"
   ]
  },
  {
   "cell_type": "code",
   "execution_count": 14,
   "metadata": {},
   "outputs": [
    {
     "name": "stdout",
     "output_type": "stream",
     "text": [
      "Distancia entre los dos planetas en km es:  1325300000\n",
      "Distancia entre los dos planetas en millas es:  823011300.0\n"
     ]
    }
   ],
   "source": [
    "# 1. Venus = 108200000\n",
    "# 2. Saturno = 1433500000\n",
    "Distancia_Planeta_1 = 108200000\n",
    "Distancia_Planeta_2 = 1433500000\n",
    "Distancia_Planetas_km = Distancia_Planeta_2 - Distancia_Planeta_1\n",
    "print('Distancia entre los dos planetas en km es: ', Distancia_Planetas_km)\n",
    "\n",
    "Distancia_Planetas_mi = Distancia_Planetas_km * 0.621\n",
    "print('Distancia entre los dos planetas en millas es: ', Distancia_Planetas_mi)"
   ]
  },
  {
   "cell_type": "markdown",
   "metadata": {},
   "source": [
    "Si tomamos la distancia más grande como el primer valor, tendríamos valores negativos, por lo tanto utilizamos abs:"
   ]
  },
  {
   "cell_type": "code",
   "execution_count": 11,
   "metadata": {},
   "outputs": [
    {
     "name": "stdout",
     "output_type": "stream",
     "text": [
      "Distancia entre los dos planetas en km es:  1325300000\n",
      "Distancia entre los dos planetas en millas es:  823011300.0\n"
     ]
    }
   ],
   "source": [
    "Distancia_Planeta_1 = 1433500000\n",
    "Distancia_Planeta_2 = 108200000\n",
    "Distancia_Planetas_km = abs(Distancia_Planeta_2 - Distancia_Planeta_1)\n",
    "print('Distancia entre los dos planetas en km es: ', Distancia_Planetas_km)\n",
    "\n",
    "Distancia_Planetas_mi = Distancia_Planetas_km * 0.621\n",
    "print('Distancia entre los dos planetas en millas es: ', Distancia_Planetas_mi)"
   ]
  },
  {
   "cell_type": "markdown",
   "metadata": {},
   "source": [
    "### Ejercicio 2"
   ]
  },
  {
   "cell_type": "code",
   "execution_count": 15,
   "metadata": {},
   "outputs": [
    {
     "name": "stdout",
     "output_type": "stream",
     "text": [
      "Distancia entre los dos planetas en km es:  170000000\n",
      "Distancia entre los dos planetas en millas es:  105570000.0\n"
     ]
    }
   ],
   "source": [
    "# 1. Marte = 227900000\n",
    "# 2. Mercurio = 57900000\n",
    "Distancia_Planeta_1 = input('Distancia al sol, planeta 1: ')\n",
    "Distancia_Planeta_2 = input('Distancia al sol, planeta 2: ')\n",
    "Distancia_Planeta_1 = int(Distancia_Planeta_1)\n",
    "Distancia_Planeta_2 = int(Distancia_Planeta_2)\n",
    "\n",
    "Distancia_Planetas_km = abs(Distancia_Planeta_2 - Distancia_Planeta_1)\n",
    "print('Distancia entre los dos planetas en km es: ', Distancia_Planetas_km)\n",
    "\n",
    "Distancia_Planetas_mi = Distancia_Planetas_km * 0.621\n",
    "print('Distancia entre los dos planetas en millas es: ', Distancia_Planetas_mi)"
   ]
  }
 ],
 "metadata": {
  "interpreter": {
   "hash": "2be5faf79681da6f2a61fdfdd5405d65d042280f7fba6178067603e3a2925119"
  },
  "kernelspec": {
   "display_name": "Python 3.10.2 64-bit",
   "language": "python",
   "name": "python3"
  },
  "language_info": {
   "codemirror_mode": {
    "name": "ipython",
    "version": 3
   },
   "file_extension": ".py",
   "mimetype": "text/x-python",
   "name": "python",
   "nbconvert_exporter": "python",
   "pygments_lexer": "ipython3",
   "version": "3.10.2"
  },
  "orig_nbformat": 4
 },
 "nbformat": 4,
 "nbformat_minor": 2
}
