{
 "cells": [
  {
   "cell_type": "markdown",
   "metadata": {},
   "source": [
    "# Kata 6\n",
    "## Listas"
   ]
  },
  {
   "cell_type": "markdown",
   "metadata": {},
   "source": [
    "### Ejercicio 1"
   ]
  },
  {
   "cell_type": "code",
   "execution_count": 20,
   "metadata": {},
   "outputs": [
    {
     "name": "stdout",
     "output_type": "stream",
     "text": [
      "Hay 8 planetas\n"
     ]
    }
   ],
   "source": [
    "Planets = ['Mercurio', 'Venus', 'Tierra', 'Marte', 'Júpiter', 'Saturno', 'Urano', 'Neptuno']\n",
    "print('Hay', len(Planets), 'planetas')"
   ]
  },
  {
   "cell_type": "code",
   "execution_count": 21,
   "metadata": {},
   "outputs": [
    {
     "name": "stdout",
     "output_type": "stream",
     "text": [
      "Ahora hay 9 planetas.\n",
      "El último planeta agregado es:  Pluto\n"
     ]
    }
   ],
   "source": [
    "Planets.append('Pluto')\n",
    "print('Ahora hay', len(Planets), 'planetas.')\n",
    "print('El último planeta agregado es: ', Planets[-1])"
   ]
  },
  {
   "cell_type": "markdown",
   "metadata": {},
   "source": [
    "### Ejercicio 2"
   ]
  },
  {
   "cell_type": "code",
   "execution_count": 40,
   "metadata": {},
   "outputs": [
    {
     "name": "stdout",
     "output_type": "stream",
     "text": [
      "Si todos los índices inician en la posición 0, la posición del planeta elegido es: 4\n",
      "Planetas más cercanos que Júpiter al sol:\n",
      "['Mercurio', 'Venus', 'Tierra', 'Marte']\n",
      "Planetas más alejados que Júpiter al sol:\n",
      "['Saturno', 'Urano', 'Neptuno']\n"
     ]
    }
   ],
   "source": [
    "Planets = ['Mercurio', 'Venus', 'Tierra', 'Marte', 'Júpiter', 'Saturno', 'Urano', 'Neptuno']\n",
    "Planeta_elegido = input('Elija un planeta (Use mayúsculas para iniciar): ')\n",
    "\n",
    "Planeta_indice = Planets.index(Planeta_elegido)\n",
    "print('Si todos los índices inician en la posición 0, la posición del planeta elegido es:', Planeta_indice)\n",
    "\n",
    "print('Planetas más cercanos que ' + Planeta_elegido + ' al sol:') \n",
    "print(Planets[0:Planeta_indice])\n",
    "\n",
    "print('Planetas más alejados que ' + Planeta_elegido + ' al sol:') \n",
    "print(Planets[Planeta_indice+1:])"
   ]
  }
 ],
 "metadata": {
  "interpreter": {
   "hash": "2be5faf79681da6f2a61fdfdd5405d65d042280f7fba6178067603e3a2925119"
  },
  "kernelspec": {
   "display_name": "Python 3.10.2 64-bit",
   "language": "python",
   "name": "python3"
  },
  "language_info": {
   "name": "python",
   "version": "3.10.2"
  },
  "orig_nbformat": 4
 },
 "nbformat": 4,
 "nbformat_minor": 2
}
