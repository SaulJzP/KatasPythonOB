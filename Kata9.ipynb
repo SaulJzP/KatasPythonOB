{
 "cells": [
  {
   "cell_type": "markdown",
   "metadata": {},
   "source": [
    "# Kata 9\n",
    "## Uso de funciones"
   ]
  },
  {
   "cell_type": "markdown",
   "metadata": {},
   "source": [
    "### Ejercicio 1\n",
    "Construir un informe de combustible que requiere información de varias ubicaciones de combustible en todo el cohete."
   ]
  },
  {
   "cell_type": "code",
   "execution_count": 17,
   "metadata": {},
   "outputs": [
    {
     "name": "stdout",
     "output_type": "stream",
     "text": [
      "Reporte de combustible:\n",
      "    Promedio: 10.0 %\n",
      "    Tanque 1: 10 %\n",
      "    Tanque 2: 10 %\n",
      "    Tanque 3: 10 % \n",
      "    \n"
     ]
    }
   ],
   "source": [
    "def informe_combustibles(tanque_1, tanque_2, tanque_3):\n",
    "    promedio_tanques = (tanque_1 + tanque_2 + tanque_3) / 3\n",
    "    return f'''Reporte de combustible:\n",
    "    Promedio: {promedio_tanques} %\n",
    "    Tanque 1: {tanque_1} %\n",
    "    Tanque 2: {tanque_2} %\n",
    "    Tanque 3: {tanque_3} % \n",
    "    '''\n",
    "print(informe_combustibles(10, 10, 10))"
   ]
  },
  {
   "cell_type": "markdown",
   "metadata": {},
   "source": [
    "Funcion promedio independiente:"
   ]
  },
  {
   "cell_type": "code",
   "execution_count": 18,
   "metadata": {},
   "outputs": [
    {
     "data": {
      "text/plain": [
       "46.0"
      ]
     },
     "execution_count": 18,
     "metadata": {},
     "output_type": "execute_result"
    }
   ],
   "source": [
    "def promedio_automatico(nivel_combustible):\n",
    "    total = sum(nivel_combustible)\n",
    "    muestras = len(nivel_combustible)\n",
    "    return total/muestras\n",
    "# Asignamos algunos valores a la función\n",
    "promedio_automatico([10, 100, 30, 20, 70])"
   ]
  },
  {
   "cell_type": "markdown",
   "metadata": {},
   "source": [
    "Las dos funciones creadas juntas:"
   ]
  },
  {
   "cell_type": "code",
   "execution_count": 22,
   "metadata": {},
   "outputs": [
    {
     "name": "stdout",
     "output_type": "stream",
     "text": [
      "Reporte de combustible:\n",
      "    Promedio: 44.0 %\n",
      "    Tanque 1: 45 %\n",
      "    Tanque 2: 54 %\n",
      "    Tanque 3: 33 % \n",
      "    \n"
     ]
    }
   ],
   "source": [
    "def informe_combustibles(tanque_1, tanque_2, tanque_3):\n",
    "    promedio_tanques = (tanque_1 + tanque_2 + tanque_3) / 3\n",
    "    return f'''Reporte de combustible:\n",
    "    Promedio: {promedio_automatico([tanque_1, tanque_2, tanque_3])} %\n",
    "    Tanque 1: {tanque_1} %\n",
    "    Tanque 2: {tanque_2} %\n",
    "    Tanque 3: {tanque_3} % \n",
    "    '''\n",
    "print(informe_combustibles(45, 54, 33))"
   ]
  },
  {
   "cell_type": "markdown",
   "metadata": {},
   "source": [
    "### Ejercicio 2\n",
    "Trabajar con argumentos de palabras clave en funciones"
   ]
  },
  {
   "cell_type": "code",
   "execution_count": 27,
   "metadata": {},
   "outputs": [
    {
     "name": "stdout",
     "output_type": "stream",
     "text": [
      "    xxxxxxxxxxxxxxxxxxxxxxxxxxxxxxxxxxxxxxxxxxxxxxxxxx\n",
      "    Misión a Luna\n",
      "    Tiempo total: 248 minutos\n",
      "    Combustible total: 500000 litros \n",
      "    xxxxxxxxxxxxxxxxxxxxxxxxxxxxxxxxxxxxxxxxxxxxxxxxxx\n",
      "    \n"
     ]
    }
   ],
   "source": [
    "def Reporte_mision(T_Prelanzamiento, T_Vuelo, Destino, Tanque_interno, Tanque_externo):\n",
    "    return f'''    {'x'*50}\n",
    "    Destino de la misión: {Destino}\n",
    "    Tiempo total: {T_Prelanzamiento + T_Vuelo} minutos\n",
    "    Combustible total: {Tanque_interno + Tanque_externo} litros \n",
    "    {'x'*50}\n",
    "    '''\n",
    "\n",
    "print(Reporte_mision(8, 240, \"Luna\", 200000, 300000))"
   ]
  },
  {
   "cell_type": "markdown",
   "metadata": {},
   "source": [
    "La función es problemática porque no se puede adaptar para minutos adicionales o tanques adicionales de combustible. Hazlo más flexible permitiendo cualquier número de pasos basados en el tiempo y cualquier número de tanques."
   ]
  },
  {
   "cell_type": "code",
   "execution_count": 32,
   "metadata": {},
   "outputs": [
    {
     "name": "stdout",
     "output_type": "stream",
     "text": [
      "\n",
      "    Destino de la misión: Luna\n",
      "    Tiempo total de viaje: 181 minutos\n",
      "    Combustible total: 550200\n",
      "    \n"
     ]
    }
   ],
   "source": [
    "def Reporte_mision(destino, *minutos, **deposito_combustible):\n",
    "    return f'''\n",
    "    Destino de la misión: {destino}\n",
    "    Tiempo total de viaje: {sum(minutos)} minutos\n",
    "    Combustible total: {sum(deposito_combustible.values())}\n",
    "    '''\n",
    "\n",
    "print(Reporte_mision(\"Luna\", 35, 55, 14, 77, tanque_int=200, tanque_ext=550000))"
   ]
  },
  {
   "cell_type": "markdown",
   "metadata": {},
   "source": [
    "Debido a que el combustible que queda en los tanques es específico de cada tanque, actualiza la función para usar el nombre de cada tanque en el informe:"
   ]
  },
  {
   "cell_type": "code",
   "execution_count": 44,
   "metadata": {},
   "outputs": [
    {
     "name": "stdout",
     "output_type": "stream",
     "text": [
      "    °°°°°°°°°°°°°°°°°°°°°°°°°°°°°°°°°°°°°°°°°°°°°°°°°°°°°°°°°°°°°°°°°°°°°°°°°°°°°°°°°°°°°°°°°°°°°°°°°°°°\n",
      "    Destino de la misión: Luna\n",
      "    Tiempo total de viaje: 40 minutos\n",
      "    Combustible total: 15000\n",
      "    °°°°°°°°°°°°°°°°°°°°°°°°°°°°°°°°°°°°°°°°°°°°°°°°°°°°°°°°°°°°°°°°°°°°°°°°°°°°°°°°°°°°°°°°°°°°°°°°°°°°\n",
      "    Tanque interno >>> 5000 litros restantes\n",
      "    Tanque externo >>> 10000 litros restantes\n",
      "    \n"
     ]
    }
   ],
   "source": [
    "def Reporte_mision(destino, *minutos, **deposito_combustible):\n",
    "    Informe_mision = f'''    {'°'*100}\n",
    "    Destino de la misión: {destino}\n",
    "    Tiempo total de viaje: {sum(minutos)} minutos\n",
    "    Combustible total: {sum(deposito_combustible.values())}\n",
    "    {'°'*100}\n",
    "    '''\n",
    "    for tanques, litros in deposito_combustible.items():\n",
    "        Informe_mision += f'Tanque {tanques} >>> {litros} litros restantes\\n    '\n",
    "    return Informe_mision\n",
    "print(Reporte_mision('Luna', 10, 10, 20, interno=5000, externo=10000))"
   ]
  }
 ],
 "metadata": {
  "interpreter": {
   "hash": "2be5faf79681da6f2a61fdfdd5405d65d042280f7fba6178067603e3a2925119"
  },
  "kernelspec": {
   "display_name": "Python 3.10.2 64-bit",
   "language": "python",
   "name": "python3"
  },
  "language_info": {
   "codemirror_mode": {
    "name": "ipython",
    "version": 3
   },
   "file_extension": ".py",
   "mimetype": "text/x-python",
   "name": "python",
   "nbconvert_exporter": "python",
   "pygments_lexer": "ipython3",
   "version": "3.10.2"
  },
  "orig_nbformat": 4
 },
 "nbformat": 4,
 "nbformat_minor": 2
}
